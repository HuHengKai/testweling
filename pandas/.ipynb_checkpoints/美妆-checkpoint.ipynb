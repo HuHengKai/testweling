{
 "cells": [
  {
   "cell_type": "code",
   "execution_count": 1,
   "metadata": {},
   "outputs": [
    {
     "name": "stderr",
     "output_type": "stream",
     "text": [
      "d:\\python3.7\\lib\\importlib\\_bootstrap.py:219: RuntimeWarning: numpy.ufunc size changed, may indicate binary incompatibility. Expected 192 from C header, got 216 from PyObject\n",
      "  return f(*args, **kwds)\n"
     ]
    }
   ],
   "source": [
    "import pandas as pd\n",
    "from matplotlib import pyplot as plt"
   ]
  },
  {
   "cell_type": "code",
   "execution_count": 75,
   "metadata": {},
   "outputs": [
    {
     "data": {
      "text/html": [
       "<div>\n",
       "<style scoped>\n",
       "    .dataframe tbody tr th:only-of-type {\n",
       "        vertical-align: middle;\n",
       "    }\n",
       "\n",
       "    .dataframe tbody tr th {\n",
       "        vertical-align: top;\n",
       "    }\n",
       "\n",
       "    .dataframe thead th {\n",
       "        text-align: right;\n",
       "    }\n",
       "</style>\n",
       "<table border=\"1\" class=\"dataframe\">\n",
       "  <thead>\n",
       "    <tr style=\"text-align: right;\">\n",
       "      <th></th>\n",
       "      <th>update_time</th>\n",
       "      <th>id</th>\n",
       "      <th>title</th>\n",
       "      <th>price</th>\n",
       "      <th>sale_count</th>\n",
       "      <th>comment_count</th>\n",
       "      <th>店名</th>\n",
       "    </tr>\n",
       "  </thead>\n",
       "  <tbody>\n",
       "    <tr>\n",
       "      <th>0</th>\n",
       "      <td>2016/11/14</td>\n",
       "      <td>A18164178225</td>\n",
       "      <td>CHANDO/自然堂 雪域精粹纯粹滋润霜50g 补水保湿 滋润水润面霜</td>\n",
       "      <td>139.0</td>\n",
       "      <td>26719.0</td>\n",
       "      <td>2704.0</td>\n",
       "      <td>自然堂</td>\n",
       "    </tr>\n",
       "    <tr>\n",
       "      <th>1</th>\n",
       "      <td>2016/11/14</td>\n",
       "      <td>A18177105952</td>\n",
       "      <td>CHANDO/自然堂凝时鲜颜肌活乳液120ML 淡化细纹补水滋润专柜正品</td>\n",
       "      <td>194.0</td>\n",
       "      <td>8122.0</td>\n",
       "      <td>1492.0</td>\n",
       "      <td>自然堂</td>\n",
       "    </tr>\n",
       "    <tr>\n",
       "      <th>2</th>\n",
       "      <td>2016/11/14</td>\n",
       "      <td>A18177226992</td>\n",
       "      <td>CHANDO/自然堂活泉保湿修护精华水（滋润型135ml 补水控油爽肤水</td>\n",
       "      <td>99.0</td>\n",
       "      <td>12668.0</td>\n",
       "      <td>589.0</td>\n",
       "      <td>自然堂</td>\n",
       "    </tr>\n",
       "    <tr>\n",
       "      <th>3</th>\n",
       "      <td>2016/11/14</td>\n",
       "      <td>A18178033846</td>\n",
       "      <td>CHANDO/自然堂 男士劲爽控油洁面膏 100g 深层清洁  男士洗面奶</td>\n",
       "      <td>38.0</td>\n",
       "      <td>25805.0</td>\n",
       "      <td>4287.0</td>\n",
       "      <td>自然堂</td>\n",
       "    </tr>\n",
       "    <tr>\n",
       "      <th>4</th>\n",
       "      <td>2016/11/14</td>\n",
       "      <td>A18178045259</td>\n",
       "      <td>CHANDO/自然堂雪域精粹纯粹滋润霜（清爽型）50g补水保湿滋润霜</td>\n",
       "      <td>139.0</td>\n",
       "      <td>5196.0</td>\n",
       "      <td>618.0</td>\n",
       "      <td>自然堂</td>\n",
       "    </tr>\n",
       "  </tbody>\n",
       "</table>\n",
       "</div>"
      ],
      "text/plain": [
       "  update_time            id                                  title  price  \\\n",
       "0  2016/11/14  A18164178225    CHANDO/自然堂 雪域精粹纯粹滋润霜50g 补水保湿 滋润水润面霜  139.0   \n",
       "1  2016/11/14  A18177105952   CHANDO/自然堂凝时鲜颜肌活乳液120ML 淡化细纹补水滋润专柜正品  194.0   \n",
       "2  2016/11/14  A18177226992   CHANDO/自然堂活泉保湿修护精华水（滋润型135ml 补水控油爽肤水   99.0   \n",
       "3  2016/11/14  A18178033846  CHANDO/自然堂 男士劲爽控油洁面膏 100g 深层清洁  男士洗面奶   38.0   \n",
       "4  2016/11/14  A18178045259     CHANDO/自然堂雪域精粹纯粹滋润霜（清爽型）50g补水保湿滋润霜  139.0   \n",
       "\n",
       "   sale_count  comment_count   店名  \n",
       "0     26719.0         2704.0  自然堂  \n",
       "1      8122.0         1492.0  自然堂  \n",
       "2     12668.0          589.0  自然堂  \n",
       "3     25805.0         4287.0  自然堂  \n",
       "4      5196.0          618.0  自然堂  "
      ]
     },
     "execution_count": 75,
     "metadata": {},
     "output_type": "execute_result"
    }
   ],
   "source": [
    "data=pd.read_csv(\"双十一淘宝美妆数据.csv\",encoding=\"utf-8\")\n",
    "data.head()"
   ]
  },
  {
   "cell_type": "code",
   "execution_count": 76,
   "metadata": {},
   "outputs": [
    {
     "data": {
      "text/plain": [
       "pandas._libs.tslibs.timestamps.Timestamp"
      ]
     },
     "execution_count": 76,
     "metadata": {},
     "output_type": "execute_result"
    }
   ],
   "source": [
    "#转换为时间\n",
    "type(data.update_time)\n",
    "data_new=pd.to_datetime(\"2006-01-01\")\n",
    "type(data_new)"
   ]
  },
  {
   "cell_type": "code",
   "execution_count": 77,
   "metadata": {
    "scrolled": true
   },
   "outputs": [],
   "source": [
    "data[\"time1\"]=data[\"update_time\"].apply(pd.to_datetime,format=\"%Y-%m-%d\")\n",
    "#转换为时间格式，形式相对，format='%Y-%m-%d %H:%M:%S.%f'\n",
    "# data.time1.dt.year\n",
    "# data.time1.dt.month\n",
    "# data.time1.dt.day"
   ]
  },
  {
   "cell_type": "code",
   "execution_count": 78,
   "metadata": {},
   "outputs": [],
   "source": [
    "data[\"year\"]=data[\"time1\"].dt.year\n",
    "data[\"month\"]=data[\"time1\"].dt.month\n",
    "data[\"day\"]=data[\"time1\"].dt.day"
   ]
  },
  {
   "cell_type": "code",
   "execution_count": 61,
   "metadata": {},
   "outputs": [],
   "source": [
    "data=data.drop([\"update_time\"],axis=1)\n",
    "#https://www.cnblogs.com/guxh/p/9420610.html,删除行或者列，axis默认为0,行\n",
    "#直接[]为使用列明，data。【】，使用位置"
   ]
  },
  {
   "cell_type": "code",
   "execution_count": 79,
   "metadata": {},
   "outputs": [
    {
     "data": {
      "text/plain": [
       "Index(['update_time', 'id', 'title', 'price', 'sale_count', 'comment_count',\n",
       "       '店名', 'time1', 'year', 'month', 'day'],\n",
       "      dtype='object')"
      ]
     },
     "execution_count": 79,
     "metadata": {},
     "output_type": "execute_result"
    }
   ],
   "source": [
    "data.columns"
   ]
  },
  {
   "cell_type": "code",
   "execution_count": 80,
   "metadata": {},
   "outputs": [
    {
     "data": {
      "text/plain": [
       "悦诗风吟    3021\n",
       "佰草集     2265\n",
       "欧莱雅     1974\n",
       "雅诗兰黛    1810\n",
       "倩碧      1704\n",
       "美加净     1678\n",
       "欧珀莱     1359\n",
       "妮维雅     1329\n",
       "相宜本草    1313\n",
       "兰蔻      1285\n",
       "娇兰      1193\n",
       "自然堂     1190\n",
       "玉兰油     1135\n",
       "兰芝      1091\n",
       "美宝莲      825\n",
       "资生堂      821\n",
       "植村秀      750\n",
       "薇姿       746\n",
       "雅漾       663\n",
       "雪花秀      543\n",
       "SKII     469\n",
       "蜜丝佛陀     434\n",
       "Name: 店名, dtype: int64"
      ]
     },
     "execution_count": 80,
     "metadata": {},
     "output_type": "execute_result"
    }
   ],
   "source": [
    "data[\"店名\"].value_counts()"
   ]
  },
  {
   "cell_type": "code",
   "execution_count": 81,
   "metadata": {},
   "outputs": [],
   "source": [
    "#删除重复数据\n",
    "data=data.drop_duplicates(inplace=False)"
   ]
  },
  {
   "cell_type": "code",
   "execution_count": 82,
   "metadata": {},
   "outputs": [
    {
     "data": {
      "text/plain": [
       "(27512, 11)"
      ]
     },
     "execution_count": 82,
     "metadata": {},
     "output_type": "execute_result"
    }
   ],
   "source": [
    "data.shape"
   ]
  },
  {
   "cell_type": "code",
   "execution_count": 85,
   "metadata": {},
   "outputs": [
    {
     "data": {
      "text/plain": [
       "update_time      False\n",
       "id               False\n",
       "title            False\n",
       "price            False\n",
       "sale_count        True\n",
       "comment_count     True\n",
       "店名               False\n",
       "time1            False\n",
       "year             False\n",
       "month            False\n",
       "day              False\n",
       "dtype: bool"
      ]
     },
     "execution_count": 85,
     "metadata": {},
     "output_type": "execute_result"
    }
   ],
   "source": [
    "data.isnull().any()"
   ]
  },
  {
   "cell_type": "code",
   "execution_count": 88,
   "metadata": {},
   "outputs": [],
   "source": [
    "data2=data.dropna(axis=0,how=\"any\",inplace=False)"
   ]
  },
  {
   "cell_type": "code",
   "execution_count": 89,
   "metadata": {},
   "outputs": [
    {
     "data": {
      "text/plain": [
       "(25162, 11)"
      ]
     },
     "execution_count": 89,
     "metadata": {},
     "output_type": "execute_result"
    }
   ],
   "source": [
    "data2.shape"
   ]
  },
  {
   "cell_type": "code",
   "execution_count": 100,
   "metadata": {},
   "outputs": [],
   "source": [
    "a=data.isnull().index\n",
    "import numpy as np"
   ]
  },
  {
   "cell_type": "code",
   "execution_count": 113,
   "metadata": {},
   "outputs": [
    {
     "data": {
      "text/plain": [
       "Int64Index([ 2011,  2012,  2013,  2014,  2015,  2016,  2017,  2018,  2019,\n",
       "             2020,\n",
       "            ...\n",
       "            27588, 27589, 27590, 27591, 27592, 27593, 27594, 27595, 27596,\n",
       "            27597],\n",
       "           dtype='int64', length=2350)"
      ]
     },
     "execution_count": 113,
     "metadata": {},
     "output_type": "execute_result"
    }
   ],
   "source": [
    "data2=pd.isnull(data)\n",
    "data[data2[\"comment_count\"]==True].index"
   ]
  },
  {
   "cell_type": "code",
   "execution_count": 122,
   "metadata": {},
   "outputs": [],
   "source": [
    "data2=data.drop(data[pd.isnull(data)[\"comment_count\"]==True].index,axis=0)"
   ]
  },
  {
   "cell_type": "code",
   "execution_count": 132,
   "metadata": {},
   "outputs": [
    {
     "data": {
      "text/html": [
       "<div>\n",
       "<style scoped>\n",
       "    .dataframe tbody tr th:only-of-type {\n",
       "        vertical-align: middle;\n",
       "    }\n",
       "\n",
       "    .dataframe tbody tr th {\n",
       "        vertical-align: top;\n",
       "    }\n",
       "\n",
       "    .dataframe thead th {\n",
       "        text-align: right;\n",
       "    }\n",
       "</style>\n",
       "<table border=\"1\" class=\"dataframe\">\n",
       "  <thead>\n",
       "    <tr style=\"text-align: right;\">\n",
       "      <th></th>\n",
       "      <th>update_time</th>\n",
       "      <th>id</th>\n",
       "      <th>title</th>\n",
       "      <th>price</th>\n",
       "      <th>sale_count</th>\n",
       "      <th>comment_count</th>\n",
       "      <th>店名</th>\n",
       "      <th>time1</th>\n",
       "      <th>year</th>\n",
       "      <th>month</th>\n",
       "      <th>day</th>\n",
       "    </tr>\n",
       "  </thead>\n",
       "  <tbody>\n",
       "    <tr>\n",
       "      <th>0</th>\n",
       "      <td>2016/11/14</td>\n",
       "      <td>A18164178225</td>\n",
       "      <td>CHANDO/自然堂 雪域精粹纯粹滋润霜50g 补水保湿 滋润水润面霜</td>\n",
       "      <td>139.0</td>\n",
       "      <td>26719.0</td>\n",
       "      <td>2704.0</td>\n",
       "      <td>自然堂</td>\n",
       "      <td>2016-11-14</td>\n",
       "      <td>2016</td>\n",
       "      <td>11</td>\n",
       "      <td>14</td>\n",
       "    </tr>\n",
       "    <tr>\n",
       "      <th>1</th>\n",
       "      <td>2016/11/14</td>\n",
       "      <td>A18177105952</td>\n",
       "      <td>CHANDO/自然堂凝时鲜颜肌活乳液120ML 淡化细纹补水滋润专柜正品</td>\n",
       "      <td>194.0</td>\n",
       "      <td>8122.0</td>\n",
       "      <td>1492.0</td>\n",
       "      <td>自然堂</td>\n",
       "      <td>2016-11-14</td>\n",
       "      <td>2016</td>\n",
       "      <td>11</td>\n",
       "      <td>14</td>\n",
       "    </tr>\n",
       "    <tr>\n",
       "      <th>2</th>\n",
       "      <td>2016/11/14</td>\n",
       "      <td>A18177226992</td>\n",
       "      <td>CHANDO/自然堂活泉保湿修护精华水（滋润型135ml 补水控油爽肤水</td>\n",
       "      <td>99.0</td>\n",
       "      <td>12668.0</td>\n",
       "      <td>589.0</td>\n",
       "      <td>自然堂</td>\n",
       "      <td>2016-11-14</td>\n",
       "      <td>2016</td>\n",
       "      <td>11</td>\n",
       "      <td>14</td>\n",
       "    </tr>\n",
       "    <tr>\n",
       "      <th>3</th>\n",
       "      <td>2016/11/14</td>\n",
       "      <td>A18178033846</td>\n",
       "      <td>CHANDO/自然堂 男士劲爽控油洁面膏 100g 深层清洁  男士洗面奶</td>\n",
       "      <td>38.0</td>\n",
       "      <td>25805.0</td>\n",
       "      <td>4287.0</td>\n",
       "      <td>自然堂</td>\n",
       "      <td>2016-11-14</td>\n",
       "      <td>2016</td>\n",
       "      <td>11</td>\n",
       "      <td>14</td>\n",
       "    </tr>\n",
       "    <tr>\n",
       "      <th>4</th>\n",
       "      <td>2016/11/14</td>\n",
       "      <td>A18178045259</td>\n",
       "      <td>CHANDO/自然堂雪域精粹纯粹滋润霜（清爽型）50g补水保湿滋润霜</td>\n",
       "      <td>139.0</td>\n",
       "      <td>5196.0</td>\n",
       "      <td>618.0</td>\n",
       "      <td>自然堂</td>\n",
       "      <td>2016-11-14</td>\n",
       "      <td>2016</td>\n",
       "      <td>11</td>\n",
       "      <td>14</td>\n",
       "    </tr>\n",
       "  </tbody>\n",
       "</table>\n",
       "</div>"
      ],
      "text/plain": [
       "  update_time            id                                  title  price  \\\n",
       "0  2016/11/14  A18164178225    CHANDO/自然堂 雪域精粹纯粹滋润霜50g 补水保湿 滋润水润面霜  139.0   \n",
       "1  2016/11/14  A18177105952   CHANDO/自然堂凝时鲜颜肌活乳液120ML 淡化细纹补水滋润专柜正品  194.0   \n",
       "2  2016/11/14  A18177226992   CHANDO/自然堂活泉保湿修护精华水（滋润型135ml 补水控油爽肤水   99.0   \n",
       "3  2016/11/14  A18178033846  CHANDO/自然堂 男士劲爽控油洁面膏 100g 深层清洁  男士洗面奶   38.0   \n",
       "4  2016/11/14  A18178045259     CHANDO/自然堂雪域精粹纯粹滋润霜（清爽型）50g补水保湿滋润霜  139.0   \n",
       "\n",
       "   sale_count  comment_count   店名      time1  year  month  day  \n",
       "0     26719.0         2704.0  自然堂 2016-11-14  2016     11   14  \n",
       "1      8122.0         1492.0  自然堂 2016-11-14  2016     11   14  \n",
       "2     12668.0          589.0  自然堂 2016-11-14  2016     11   14  \n",
       "3     25805.0         4287.0  自然堂 2016-11-14  2016     11   14  \n",
       "4      5196.0          618.0  自然堂 2016-11-14  2016     11   14  "
      ]
     },
     "execution_count": 132,
     "metadata": {},
     "output_type": "execute_result"
    }
   ],
   "source": [
    "data2[\"comment_count\"].isnull().count()\n",
    "data2.head()"
   ]
  },
  {
   "cell_type": "code",
   "execution_count": 131,
   "metadata": {},
   "outputs": [
    {
     "data": {
      "text/plain": [
       "Index(['update_time', 'id', 'title', 'price', 'sale_count', 'comment_count',\n",
       "       '店名', 'time1', 'year', 'month', 'day'],\n",
       "      dtype='object')"
      ]
     },
     "execution_count": 131,
     "metadata": {},
     "output_type": "execute_result"
    }
   ],
   "source": [
    "data2.columns"
   ]
  },
  {
   "cell_type": "code",
   "execution_count": 133,
   "metadata": {},
   "outputs": [],
   "source": [
    "data2=data2.drop(['update_time','time1', 'year', 'month'],axis=1,inplace=False)"
   ]
  },
  {
   "cell_type": "code",
   "execution_count": 135,
   "metadata": {},
   "outputs": [
    {
     "data": {
      "text/html": [
       "<div>\n",
       "<style scoped>\n",
       "    .dataframe tbody tr th:only-of-type {\n",
       "        vertical-align: middle;\n",
       "    }\n",
       "\n",
       "    .dataframe tbody tr th {\n",
       "        vertical-align: top;\n",
       "    }\n",
       "\n",
       "    .dataframe thead th {\n",
       "        text-align: right;\n",
       "    }\n",
       "</style>\n",
       "<table border=\"1\" class=\"dataframe\">\n",
       "  <thead>\n",
       "    <tr style=\"text-align: right;\">\n",
       "      <th></th>\n",
       "      <th>id</th>\n",
       "      <th>title</th>\n",
       "      <th>price</th>\n",
       "      <th>sale_count</th>\n",
       "      <th>comment_count</th>\n",
       "      <th>店名</th>\n",
       "      <th>day</th>\n",
       "    </tr>\n",
       "  </thead>\n",
       "  <tbody>\n",
       "    <tr>\n",
       "      <th>0</th>\n",
       "      <td>A18164178225</td>\n",
       "      <td>CHANDO/自然堂 雪域精粹纯粹滋润霜50g 补水保湿 滋润水润面霜</td>\n",
       "      <td>139.0</td>\n",
       "      <td>26719.0</td>\n",
       "      <td>2704.0</td>\n",
       "      <td>自然堂</td>\n",
       "      <td>14</td>\n",
       "    </tr>\n",
       "    <tr>\n",
       "      <th>1</th>\n",
       "      <td>A18177105952</td>\n",
       "      <td>CHANDO/自然堂凝时鲜颜肌活乳液120ML 淡化细纹补水滋润专柜正品</td>\n",
       "      <td>194.0</td>\n",
       "      <td>8122.0</td>\n",
       "      <td>1492.0</td>\n",
       "      <td>自然堂</td>\n",
       "      <td>14</td>\n",
       "    </tr>\n",
       "    <tr>\n",
       "      <th>2</th>\n",
       "      <td>A18177226992</td>\n",
       "      <td>CHANDO/自然堂活泉保湿修护精华水（滋润型135ml 补水控油爽肤水</td>\n",
       "      <td>99.0</td>\n",
       "      <td>12668.0</td>\n",
       "      <td>589.0</td>\n",
       "      <td>自然堂</td>\n",
       "      <td>14</td>\n",
       "    </tr>\n",
       "    <tr>\n",
       "      <th>3</th>\n",
       "      <td>A18178033846</td>\n",
       "      <td>CHANDO/自然堂 男士劲爽控油洁面膏 100g 深层清洁  男士洗面奶</td>\n",
       "      <td>38.0</td>\n",
       "      <td>25805.0</td>\n",
       "      <td>4287.0</td>\n",
       "      <td>自然堂</td>\n",
       "      <td>14</td>\n",
       "    </tr>\n",
       "    <tr>\n",
       "      <th>4</th>\n",
       "      <td>A18178045259</td>\n",
       "      <td>CHANDO/自然堂雪域精粹纯粹滋润霜（清爽型）50g补水保湿滋润霜</td>\n",
       "      <td>139.0</td>\n",
       "      <td>5196.0</td>\n",
       "      <td>618.0</td>\n",
       "      <td>自然堂</td>\n",
       "      <td>14</td>\n",
       "    </tr>\n",
       "  </tbody>\n",
       "</table>\n",
       "</div>"
      ],
      "text/plain": [
       "             id                                  title  price  sale_count  \\\n",
       "0  A18164178225    CHANDO/自然堂 雪域精粹纯粹滋润霜50g 补水保湿 滋润水润面霜  139.0     26719.0   \n",
       "1  A18177105952   CHANDO/自然堂凝时鲜颜肌活乳液120ML 淡化细纹补水滋润专柜正品  194.0      8122.0   \n",
       "2  A18177226992   CHANDO/自然堂活泉保湿修护精华水（滋润型135ml 补水控油爽肤水   99.0     12668.0   \n",
       "3  A18178033846  CHANDO/自然堂 男士劲爽控油洁面膏 100g 深层清洁  男士洗面奶   38.0     25805.0   \n",
       "4  A18178045259     CHANDO/自然堂雪域精粹纯粹滋润霜（清爽型）50g补水保湿滋润霜  139.0      5196.0   \n",
       "\n",
       "   comment_count   店名  day  \n",
       "0         2704.0  自然堂   14  \n",
       "1         1492.0  自然堂   14  \n",
       "2          589.0  自然堂   14  \n",
       "3         4287.0  自然堂   14  \n",
       "4          618.0  自然堂   14  "
      ]
     },
     "execution_count": 135,
     "metadata": {},
     "output_type": "execute_result"
    }
   ],
   "source": [
    "data2.head()"
   ]
  },
  {
   "cell_type": "code",
   "execution_count": 138,
   "metadata": {},
   "outputs": [],
   "source": [
    "data2.set_index=data.comment_count"
   ]
  },
  {
   "cell_type": "code",
   "execution_count": 143,
   "metadata": {},
   "outputs": [
    {
     "ename": "ValueError",
     "evalue": "Length mismatch: Expected axis has 25162 elements, new values have 27512 elements",
     "output_type": "error",
     "traceback": [
      "\u001b[1;31m---------------------------------------------------------------------------\u001b[0m",
      "\u001b[1;31mValueError\u001b[0m                                Traceback (most recent call last)",
      "\u001b[1;32m<ipython-input-143-8c4249c6a049>\u001b[0m in \u001b[0;36m<module>\u001b[1;34m\u001b[0m\n\u001b[1;32m----> 1\u001b[1;33m \u001b[0mdata2\u001b[0m\u001b[1;33m.\u001b[0m\u001b[0mindex\u001b[0m\u001b[1;33m=\u001b[0m\u001b[0mdata\u001b[0m\u001b[1;33m[\u001b[0m\u001b[1;34m\"comment_count\"\u001b[0m\u001b[1;33m]\u001b[0m\u001b[1;33m.\u001b[0m\u001b[0mtolist\u001b[0m\u001b[1;33m(\u001b[0m\u001b[1;33m)\u001b[0m\u001b[1;33m\u001b[0m\u001b[1;33m\u001b[0m\u001b[0m\n\u001b[0m",
      "\u001b[1;32md:\\python3.7\\lib\\site-packages\\pandas\\core\\generic.py\u001b[0m in \u001b[0;36m__setattr__\u001b[1;34m(self, name, value)\u001b[0m\n\u001b[0;32m   5078\u001b[0m         \u001b[1;32mtry\u001b[0m\u001b[1;33m:\u001b[0m\u001b[1;33m\u001b[0m\u001b[1;33m\u001b[0m\u001b[0m\n\u001b[0;32m   5079\u001b[0m             \u001b[0mobject\u001b[0m\u001b[1;33m.\u001b[0m\u001b[0m__getattribute__\u001b[0m\u001b[1;33m(\u001b[0m\u001b[0mself\u001b[0m\u001b[1;33m,\u001b[0m \u001b[0mname\u001b[0m\u001b[1;33m)\u001b[0m\u001b[1;33m\u001b[0m\u001b[1;33m\u001b[0m\u001b[0m\n\u001b[1;32m-> 5080\u001b[1;33m             \u001b[1;32mreturn\u001b[0m \u001b[0mobject\u001b[0m\u001b[1;33m.\u001b[0m\u001b[0m__setattr__\u001b[0m\u001b[1;33m(\u001b[0m\u001b[0mself\u001b[0m\u001b[1;33m,\u001b[0m \u001b[0mname\u001b[0m\u001b[1;33m,\u001b[0m \u001b[0mvalue\u001b[0m\u001b[1;33m)\u001b[0m\u001b[1;33m\u001b[0m\u001b[1;33m\u001b[0m\u001b[0m\n\u001b[0m\u001b[0;32m   5081\u001b[0m         \u001b[1;32mexcept\u001b[0m \u001b[0mAttributeError\u001b[0m\u001b[1;33m:\u001b[0m\u001b[1;33m\u001b[0m\u001b[1;33m\u001b[0m\u001b[0m\n\u001b[0;32m   5082\u001b[0m             \u001b[1;32mpass\u001b[0m\u001b[1;33m\u001b[0m\u001b[1;33m\u001b[0m\u001b[0m\n",
      "\u001b[1;32mpandas\\_libs\\properties.pyx\u001b[0m in \u001b[0;36mpandas._libs.properties.AxisProperty.__set__\u001b[1;34m()\u001b[0m\n",
      "\u001b[1;32md:\\python3.7\\lib\\site-packages\\pandas\\core\\generic.py\u001b[0m in \u001b[0;36m_set_axis\u001b[1;34m(self, axis, labels)\u001b[0m\n\u001b[0;32m    636\u001b[0m \u001b[1;33m\u001b[0m\u001b[0m\n\u001b[0;32m    637\u001b[0m     \u001b[1;32mdef\u001b[0m \u001b[0m_set_axis\u001b[0m\u001b[1;33m(\u001b[0m\u001b[0mself\u001b[0m\u001b[1;33m,\u001b[0m \u001b[0maxis\u001b[0m\u001b[1;33m,\u001b[0m \u001b[0mlabels\u001b[0m\u001b[1;33m)\u001b[0m\u001b[1;33m:\u001b[0m\u001b[1;33m\u001b[0m\u001b[1;33m\u001b[0m\u001b[0m\n\u001b[1;32m--> 638\u001b[1;33m         \u001b[0mself\u001b[0m\u001b[1;33m.\u001b[0m\u001b[0m_data\u001b[0m\u001b[1;33m.\u001b[0m\u001b[0mset_axis\u001b[0m\u001b[1;33m(\u001b[0m\u001b[0maxis\u001b[0m\u001b[1;33m,\u001b[0m \u001b[0mlabels\u001b[0m\u001b[1;33m)\u001b[0m\u001b[1;33m\u001b[0m\u001b[1;33m\u001b[0m\u001b[0m\n\u001b[0m\u001b[0;32m    639\u001b[0m         \u001b[0mself\u001b[0m\u001b[1;33m.\u001b[0m\u001b[0m_clear_item_cache\u001b[0m\u001b[1;33m(\u001b[0m\u001b[1;33m)\u001b[0m\u001b[1;33m\u001b[0m\u001b[1;33m\u001b[0m\u001b[0m\n\u001b[0;32m    640\u001b[0m \u001b[1;33m\u001b[0m\u001b[0m\n",
      "\u001b[1;32md:\\python3.7\\lib\\site-packages\\pandas\\core\\internals\\managers.py\u001b[0m in \u001b[0;36mset_axis\u001b[1;34m(self, axis, new_labels)\u001b[0m\n\u001b[0;32m    153\u001b[0m             raise ValueError(\n\u001b[0;32m    154\u001b[0m                 \u001b[1;34m'Length mismatch: Expected axis has {old} elements, new '\u001b[0m\u001b[1;33m\u001b[0m\u001b[1;33m\u001b[0m\u001b[0m\n\u001b[1;32m--> 155\u001b[1;33m                 'values have {new} elements'.format(old=old_len, new=new_len))\n\u001b[0m\u001b[0;32m    156\u001b[0m \u001b[1;33m\u001b[0m\u001b[0m\n\u001b[0;32m    157\u001b[0m         \u001b[0mself\u001b[0m\u001b[1;33m.\u001b[0m\u001b[0maxes\u001b[0m\u001b[1;33m[\u001b[0m\u001b[0maxis\u001b[0m\u001b[1;33m]\u001b[0m \u001b[1;33m=\u001b[0m \u001b[0mnew_labels\u001b[0m\u001b[1;33m\u001b[0m\u001b[1;33m\u001b[0m\u001b[0m\n",
      "\u001b[1;31mValueError\u001b[0m: Length mismatch: Expected axis has 25162 elements, new values have 27512 elements"
     ]
    }
   ],
   "source": [
    "data2.index=data[\"comment_count\"].tolist()"
   ]
  },
  {
   "cell_type": "code",
   "execution_count": null,
   "metadata": {},
   "outputs": [],
   "source": []
  }
 ],
 "metadata": {
  "kernelspec": {
   "display_name": "Python 3",
   "language": "python",
   "name": "python3"
  },
  "language_info": {
   "codemirror_mode": {
    "name": "ipython",
    "version": 3
   },
   "file_extension": ".py",
   "mimetype": "text/x-python",
   "name": "python",
   "nbconvert_exporter": "python",
   "pygments_lexer": "ipython3",
   "version": "3.7.6"
  }
 },
 "nbformat": 4,
 "nbformat_minor": 2
}
