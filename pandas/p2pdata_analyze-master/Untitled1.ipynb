{
 "cells": [
  {
   "cell_type": "code",
   "execution_count": 1,
   "metadata": {},
   "outputs": [],
   "source": [
    "import requests\n",
    "import time\n",
    "import json\n",
    "import random\n",
    "import pickle\n",
    "url = 'http://www.bjp2p.com.cn/malice/queryMaliceList'\n",
    "#http://www.bjp2p.com.cn/malice/queryMaliceList\n",
    "header = {\n",
    "'Accept':'application/json, text/javascript, */*; q=0.01',\n",
    "'Accept-Encoding':'gzip, deflate',\n",
    "'Accept-Language':'zh-CN,zh;q=0.9',\n",
    "'Content-Length':'62',\n",
    "'Content-Type':'application/x-www-form-urlencoded; charset=UTF-8',\n",
    "'Cookie':'JSESSIONID=F91673C0BB3DAA2B217B6728ADF640D7; Hm_lvt_97f110905a34b097ed49b9e9a86c55da=1555586721,1555832708,1555844162; Hm_lpvt_97f110905a34b097ed49b9e9a86c55da=1555844425',\n",
    "'Host':'www.bjp2p.com.cn',\n",
    "'Origin':'http://www.bjp2p.com.cn',\n",
    "'Proxy-Connection':'keep-alive',\n",
    "'Referer':'http://www.bjp2p.com.cn/maliceList',\n",
    "'User-Agent':'Mozilla/5.0 (Windows NT 10.0; Win64; x64) AppleWebKit/537.36 (KHTML, like Gecko) Chrome/73.0.3683.103 Safari/537.36',\n",
    "'X-Requested-With':'XMLHttpRequest'\n",
    "}"
   ]
  },
  {
   "cell_type": "code",
   "execution_count": null,
   "metadata": {},
   "outputs": [],
   "source": []
  }
 ],
 "metadata": {
  "kernelspec": {
   "display_name": "Python 3",
   "language": "python",
   "name": "python3"
  },
  "language_info": {
   "codemirror_mode": {
    "name": "ipython",
    "version": 3
   },
   "file_extension": ".py",
   "mimetype": "text/x-python",
   "name": "python",
   "nbconvert_exporter": "python",
   "pygments_lexer": "ipython3",
   "version": "3.7.6"
  }
 },
 "nbformat": 4,
 "nbformat_minor": 2
}
